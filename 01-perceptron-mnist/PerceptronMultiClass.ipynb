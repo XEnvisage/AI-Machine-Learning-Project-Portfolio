{
  "cells": [
    {
      "cell_type": "markdown",
      "metadata": {
        "collapsed": true,
        "id": "YE52HXdmLNWs"
      },
      "source": [
        "# Multi-Class Classification with Perceptron\n",
        "\n",
        "Lab Assignment from [AI for Beginners Curriculum](https://github.com/microsoft/ai-for-beginners)."
      ]
    },
    {
      "cell_type": "code",
      "execution_count": 3,
      "metadata": {
        "id": "_DYapknMLNW1"
      },
      "outputs": [],
      "source": [
        "import matplotlib.pyplot as plt\n",
        "import numpy as np\n",
        "import pickle\n",
        "import os\n",
        "import random\n",
        "#Carlos Berlin Arifin Take"
      ]
    },
    {
      "cell_type": "markdown",
      "metadata": {
        "id": "Sn9lLtDeLNW5"
      },
      "source": [
        "You can use the following perceptron training code from the lecture:"
      ]
    },
    {
      "cell_type": "code",
      "execution_count": 4,
      "metadata": {
        "id": "gbR1Sj8_LNW8"
      },
      "outputs": [],
      "source": [
        "def train(positive_examples, negative_examples, num_iterations = 100):\n",
        "    num_dims = positive_examples.shape[1]\n",
        "    weights = np.zeros((num_dims,1)) # initialize weights\n",
        "\n",
        "    pos_count = positive_examples.shape[0]\n",
        "    neg_count = negative_examples.shape[0]\n",
        "\n",
        "    report_frequency = 10\n",
        "\n",
        "    for i in range(num_iterations):\n",
        "        pos = random.choice(positive_examples)\n",
        "        neg = random.choice(negative_examples)\n",
        "\n",
        "        z = np.dot(pos, weights)\n",
        "        if z < 0:\n",
        "            weights = weights + pos.reshape(weights.shape)\n",
        "\n",
        "        z  = np.dot(neg, weights)\n",
        "        if z >= 0:\n",
        "            weights = weights - neg.reshape(weights.shape)\n",
        "\n",
        "        if i % report_frequency == 0:\n",
        "            pos_out = np.dot(positive_examples, weights)\n",
        "            neg_out = np.dot(negative_examples, weights)\n",
        "            pos_correct = (pos_out >= 0).sum() / float(pos_count)\n",
        "            neg_correct = (neg_out < 0).sum() / float(neg_count)\n",
        "            print(\"Iteration={}, pos correct={}, neg correct={}\".format(i,pos_correct,neg_correct))\n",
        "\n",
        "    return weights"
      ]
    },
    {
      "cell_type": "code",
      "execution_count": 5,
      "metadata": {
        "id": "wU4Dt67ULNW-"
      },
      "outputs": [],
      "source": [
        "def accuracy(weights, test_x, test_labels):\n",
        "    res = np.dot(np.c_[test_x,np.ones(len(test_x))],weights)\n",
        "    return (res.reshape(test_labels.shape)*test_labels>=0).sum()/float(len(test_labels))\n",
        "\n",
        "# accuracy(wts, test_x, test_labels)"
      ]
    },
    {
      "cell_type": "markdown",
      "metadata": {
        "collapsed": true,
        "id": "w_6jVo-tLNXB"
      },
      "source": [
        "### Reading the Dataset\n",
        "\n",
        "This code download the dataset from the repository on the internet. You can also manually copy the dataset from `/data` directory of AI Curriculum repo."
      ]
    },
    {
      "cell_type": "code",
      "execution_count": 6,
      "metadata": {
        "colab": {
          "base_uri": "https://localhost:8080/"
        },
        "id": "FvDcEoESLNXD",
        "outputId": "cdf30295-f7fd-45fb-f1b0-36bc983b06f0"
      },
      "outputs": [
        {
          "output_type": "stream",
          "name": "stdout",
          "text": [
            "--2025-09-24 14:50:19--  https://github.com/mnielsen/neural-networks-and-deep-learning/raw/master/data/mnist.pkl.gz\n",
            "Resolving github.com (github.com)... 140.82.114.3\n",
            "Connecting to github.com (github.com)|140.82.114.3|:443... connected.\n",
            "HTTP request sent, awaiting response... 302 Found\n",
            "Location: https://raw.githubusercontent.com/mnielsen/neural-networks-and-deep-learning/master/data/mnist.pkl.gz [following]\n",
            "--2025-09-24 14:50:20--  https://raw.githubusercontent.com/mnielsen/neural-networks-and-deep-learning/master/data/mnist.pkl.gz\n",
            "Resolving raw.githubusercontent.com (raw.githubusercontent.com)... 185.199.108.133, 185.199.109.133, 185.199.110.133, ...\n",
            "Connecting to raw.githubusercontent.com (raw.githubusercontent.com)|185.199.108.133|:443... connected.\n",
            "HTTP request sent, awaiting response... 200 OK\n",
            "Length: 17051982 (16M) [application/octet-stream]\n",
            "Saving to: ‘mnist.pkl.gz’\n",
            "\n",
            "mnist.pkl.gz        100%[===================>]  16.26M  --.-KB/s    in 0.04s   \n",
            "\n",
            "2025-09-24 14:50:20 (410 MB/s) - ‘mnist.pkl.gz’ saved [17051982/17051982]\n",
            "\n"
          ]
        }
      ],
      "source": [
        "!wget https://github.com/mnielsen/neural-networks-and-deep-learning/raw/master/data/mnist.pkl.gz\n",
        "!gzip -d mnist.pkl.gz"
      ]
    },
    {
      "cell_type": "code",
      "execution_count": 7,
      "metadata": {
        "id": "zM_u2uEWLNXF"
      },
      "outputs": [],
      "source": [
        "import pickle\n",
        "\n",
        "with open('mnist.pkl', 'rb') as mnist_pickle:\n",
        "    MNIST = pickle.load(mnist_pickle, encoding='latin1')\n"
      ]
    },
    {
      "cell_type": "code",
      "execution_count": 8,
      "metadata": {
        "colab": {
          "base_uri": "https://localhost:8080/",
          "height": 659
        },
        "id": "dDZiJDpdLNXG",
        "outputId": "513e0a3f-ee42-4318-98c5-9794f2b4feb0"
      },
      "outputs": [
        {
          "output_type": "stream",
          "name": "stdout",
          "text": [
            "First training image pixels (130:180):\n",
            "[0.         0.         0.         0.         0.         0.\n",
            " 0.         0.         0.         0.         0.         0.\n",
            " 0.         0.         0.         0.         0.         0.\n",
            " 0.         0.         0.         0.         0.01171875 0.0703125\n",
            " 0.0703125  0.0703125  0.4921875  0.53125    0.68359375 0.1015625\n",
            " 0.6484375  0.99609375 0.96484375 0.49609375 0.         0.\n",
            " 0.         0.         0.         0.         0.         0.\n",
            " 0.         0.         0.         0.         0.1171875  0.140625\n",
            " 0.3671875  0.6015625 ]\n",
            "First image label: 5\n"
          ]
        },
        {
          "output_type": "display_data",
          "data": {
            "text/plain": [
              "<Figure size 1000x500 with 1 Axes>"
            ],
            "image/png": "[encoded data removed]"
          },
          "metadata": {}
        }
      ],
      "source": [
        "train_set, val_set, test_set = MNIST\n",
        "\n",
        "# Unpack each set into images and labels\n",
        "train_images, train_labels = train_set\n",
        "val_images, val_labels = val_set\n",
        "test_images, test_labels = test_set\n",
        "\n",
        "# Now you can access the data correctly\n",
        "print(\"First training image pixels (130:180):\")\n",
        "print(train_images[0][130:180])  # First image, pixels 130-180\n",
        "print(f\"First image label: {train_labels[0]}\")\n",
        "\n",
        "# Normalize the images (0-255 -> 0-1)\n",
        "features = train_images.astype(np.float32) / 255.0\n",
        "labels = train_labels\n",
        "\n",
        "# Display an image\n",
        "plt.figure(figsize=(10,5))\n",
        "plt.imshow(train_images[0].reshape(28, 28), cmap='gray')\n",
        "plt.title(f\"Label: {train_labels[0]}\")\n",
        "plt.show()"
      ]
    },
    {
      "cell_type": "markdown",
      "metadata": {
        "id": "uoE-EFizLNXH"
      },
      "source": [
        "`[Code to create *one-vs-other* dataset for two-digit classification. You need to modify this code to create *one-vs-all* dateset.](https://)`"
      ]
    },
    {
      "cell_type": "code",
      "execution_count": 9,
      "metadata": {
        "colab": {
          "base_uri": "https://localhost:8080/"
        },
        "id": "XM50DcVMLNXI",
        "outputId": "566293f7-ec27-485f-c58a-4eef6988a354"
      },
      "outputs": [
        {
          "output_type": "stream",
          "name": "stdout",
          "text": [
            "Found 5678 images of digit 1\n",
            "Found 44322 images of all digit\n"
          ]
        }
      ],
      "source": [
        "def set_mnist_pos_neg(positive_label):\n",
        "    positive_indices = [i for i, label in enumerate(train_labels)\n",
        "                          if label == positive_label]\n",
        "    negative_indices = [i for i, label in enumerate(train_labels)\n",
        "                          if label != positive_label]\n",
        "\n",
        "    positive_images = train_images[positive_indices]\n",
        "    negative_images = train_images[negative_indices]\n",
        "\n",
        "    return positive_images, negative_images\n",
        "\n",
        "# Usage example\n",
        "positive_imgs, negative_imgs = set_mnist_pos_neg(positive_label=1)\n",
        "\n",
        "print(f\"Found {len(positive_imgs)} images of digit 1\")\n",
        "print(f\"Found {len(negative_imgs)} images of all digit\")"
      ]
    },
    {
      "cell_type": "markdown",
      "metadata": {
        "id": "DF5HikzHLNXJ"
      },
      "source": [
        "Now you need to:\n",
        "1. Create 10 *one-vs-all* datasets for all digits\n",
        "1. Train 10 perceptrons\n",
        "1. Define `classify` function to perform digit classification\n",
        "1. Measure the accuracy of classification and print *confusion matrix*\n",
        "1. [Optional] Create improved `classify` function that performs the classification using one matrix multiplication."
      ]
    },
    {
      "cell_type": "markdown",
      "metadata": {
        "id": "8HRi9hHZLNXJ"
      },
      "source": []
    },
    {
      "cell_type": "code",
      "source": [
        "# one-vs-all datasets\n",
        "datasets = {}\n",
        "for i in range(10):\n",
        "  positive_imgs, negative_imgs = set_mnist_pos_neg(positive_label=i)\n",
        "  datasets[i] =(positive_imgs, negative_imgs)\n",
        "  print(f\"Digit {i}: {len(positive_imgs)} positive, {len(negative_imgs)} negative examples\")"
      ],
      "metadata": {
        "colab": {
          "base_uri": "https://localhost:8080/"
        },
        "id": "TzAywDDwUTHz",
        "outputId": "33ba3a84-5151-40c3-9f1b-e3e2ca55a083"
      },
      "execution_count": 10,
      "outputs": [
        {
          "output_type": "stream",
          "name": "stdout",
          "text": [
            "Digit 0: 4932 positive, 45068 negative examples\n",
            "Digit 1: 5678 positive, 44322 negative examples\n",
            "Digit 2: 4968 positive, 45032 negative examples\n",
            "Digit 3: 5101 positive, 44899 negative examples\n",
            "Digit 4: 4859 positive, 45141 negative examples\n",
            "Digit 5: 4506 positive, 45494 negative examples\n",
            "Digit 6: 4951 positive, 45049 negative examples\n",
            "Digit 7: 5175 positive, 44825 negative examples\n",
            "Digit 8: 4842 positive, 45158 negative examples\n",
            "Digit 9: 4988 positive, 45012 negative examples\n"
          ]
        }
      ]
    },
    {
      "cell_type": "code",
      "source": [
        "#Training 10 perceptron according to the dataset datasets\n",
        "perceptrons = {}\n",
        "for i in range(10):\n",
        "  positive_imgs, negative_imgs = datasets[i]\n",
        "  positive_normalized = positive_imgs.astype(np.float32) / 255.0\n",
        "  negative_normalized = negative_imgs.astype(np.float32) / 255.0\n",
        "  weights = train(positive_normalized, negative_normalized, num_iterations=200)\n",
        "  perceptrons[i] = weights\n",
        "  print(f\"Perceptron for digit {i} trained successfully!\")\n"
      ],
      "metadata": {
        "colab": {
          "base_uri": "https://localhost:8080/"
        },
        "id": "5iteYjiFZzjz",
        "outputId": "e65cf1ce-d425-4881-bf4d-ba2b8a636137"
      },
      "execution_count": 11,
      "outputs": [
        {
          "output_type": "stream",
          "name": "stdout",
          "text": [
            "Iteration=0, pos correct=0.0, neg correct=1.0\n",
            "Iteration=10, pos correct=0.9209245742092458, neg correct=0.8524895713144581\n",
            "Iteration=20, pos correct=0.8882806163828062, neg correct=0.8562616490636372\n",
            "Iteration=30, pos correct=0.8801703163017032, neg correct=0.9145513446347742\n",
            "Iteration=40, pos correct=0.9324817518248175, neg correct=0.9065856039762137\n",
            "Iteration=50, pos correct=0.9854014598540146, neg correct=0.7229519836691222\n",
            "Iteration=60, pos correct=0.9288321167883211, neg correct=0.9252019171030443\n",
            "Iteration=70, pos correct=0.9620843471208435, neg correct=0.8900328392651105\n",
            "Iteration=80, pos correct=0.9620843471208435, neg correct=0.8900328392651105\n",
            "Iteration=90, pos correct=0.9620843471208435, neg correct=0.8900328392651105\n",
            "Iteration=100, pos correct=0.8815896188158961, neg correct=0.9616357504215851\n",
            "Iteration=110, pos correct=0.9876317923763179, neg correct=0.7902059110677199\n",
            "Iteration=120, pos correct=0.9334955393349554, neg correct=0.9626120528978432\n",
            "Iteration=130, pos correct=0.959448499594485, neg correct=0.9571536345078548\n",
            "Iteration=140, pos correct=0.959448499594485, neg correct=0.9571536345078548\n",
            "Iteration=150, pos correct=0.959448499594485, neg correct=0.9571536345078548\n",
            "Iteration=160, pos correct=0.959448499594485, neg correct=0.9571536345078548\n",
            "Iteration=170, pos correct=0.959448499594485, neg correct=0.9571536345078548\n",
            "Iteration=180, pos correct=0.09874290348742903, neg correct=0.9992455844501642\n",
            "Iteration=190, pos correct=0.9101784266017843, neg correct=0.9775894204313482\n",
            "Perceptron for digit 0 trained successfully!\n",
            "Iteration=0, pos correct=0.0, neg correct=1.0\n",
            "Iteration=10, pos correct=0.9337794998238816, neg correct=0.9117142728216235\n",
            "Iteration=20, pos correct=0.7735117999295527, neg correct=0.9491674563422228\n",
            "Iteration=30, pos correct=0.46125396266290947, neg correct=0.9905690176436082\n",
            "Iteration=40, pos correct=0.9235646354350123, neg correct=0.9613735842245386\n",
            "Iteration=50, pos correct=0.9427615357520254, neg correct=0.9793105004286811\n",
            "Iteration=60, pos correct=0.9427615357520254, neg correct=0.9793105004286811\n",
            "Iteration=70, pos correct=0.8802395209580839, neg correct=0.9853797211317179\n",
            "Iteration=80, pos correct=0.8802395209580839, neg correct=0.9853797211317179\n",
            "Iteration=90, pos correct=0.8911588587530821, neg correct=0.962366319209422\n",
            "Iteration=100, pos correct=0.9653046847481508, neg correct=0.9004331934479491\n",
            "Iteration=110, pos correct=0.9802747446283903, neg correct=0.8644014259284328\n",
            "Iteration=120, pos correct=0.9499823881648468, neg correct=0.9456251974188891\n",
            "Iteration=130, pos correct=0.9499823881648468, neg correct=0.9456251974188891\n",
            "Iteration=140, pos correct=0.8284607256076083, neg correct=0.988357926086368\n",
            "Iteration=150, pos correct=0.9186333215921099, neg correct=0.9844546726230766\n",
            "Iteration=160, pos correct=0.9186333215921099, neg correct=0.9844546726230766\n",
            "Iteration=170, pos correct=0.9186333215921099, neg correct=0.9844546726230766\n",
            "Iteration=180, pos correct=0.9297287777386404, neg correct=0.9877487478001895\n",
            "Iteration=190, pos correct=0.9297287777386404, neg correct=0.9877487478001895\n",
            "Perceptron for digit 1 trained successfully!\n",
            "Iteration=0, pos correct=0.0, neg correct=1.0\n",
            "Iteration=10, pos correct=0.42652979066022545, neg correct=0.9147939243204832\n",
            "Iteration=20, pos correct=0.8081723027375202, neg correct=0.8038061822703855\n",
            "Iteration=30, pos correct=0.8830515297906603, neg correct=0.8061600639545212\n",
            "Iteration=40, pos correct=0.8693639291465378, neg correct=0.718400248712027\n",
            "Iteration=50, pos correct=0.8657407407407407, neg correct=0.8693595665304672\n",
            "Iteration=60, pos correct=0.7234299516908212, neg correct=0.97652780245159\n",
            "Iteration=70, pos correct=0.8983494363929146, neg correct=0.8439109966246225\n",
            "Iteration=80, pos correct=0.8140096618357487, neg correct=0.9470598685379286\n",
            "Iteration=90, pos correct=0.8802334943639292, neg correct=0.8915437910818973\n",
            "Iteration=100, pos correct=0.9780595813204509, neg correct=0.535263812400071\n",
            "Iteration=110, pos correct=0.9440418679549114, neg correct=0.7950790548942974\n",
            "Iteration=120, pos correct=0.9889291465378421, neg correct=0.4717978326523361\n",
            "Iteration=130, pos correct=0.9629629629629629, neg correct=0.723729792147806\n",
            "Iteration=140, pos correct=0.8454106280193237, neg correct=0.9477482678983834\n",
            "Iteration=150, pos correct=0.5549516908212561, neg correct=0.9851883105347309\n",
            "Iteration=160, pos correct=0.6384863123993558, neg correct=0.9835450346420324\n",
            "Iteration=170, pos correct=0.9361916264090178, neg correct=0.8360055071948836\n",
            "Iteration=180, pos correct=0.7995169082125604, neg correct=0.9592956120092379\n",
            "Iteration=190, pos correct=0.8210547504025765, neg correct=0.9476594421744537\n",
            "Perceptron for digit 2 trained successfully!\n",
            "Iteration=0, pos correct=0.0, neg correct=1.0\n",
            "Iteration=10, pos correct=0.9284454028621839, neg correct=0.525290095547785\n",
            "Iteration=20, pos correct=0.7329935306802587, neg correct=0.9215795452014521\n",
            "Iteration=30, pos correct=0.657714173691433, neg correct=0.9403772912537027\n",
            "Iteration=40, pos correct=0.9294256028229759, neg correct=0.5564711908951202\n",
            "Iteration=50, pos correct=0.7192707312291707, neg correct=0.819194191407381\n",
            "Iteration=60, pos correct=0.6285042148598314, neg correct=0.9135392770440321\n",
            "Iteration=70, pos correct=0.9653009213879632, neg correct=0.632441702487806\n",
            "Iteration=80, pos correct=0.9260929229562831, neg correct=0.7105280741219181\n",
            "Iteration=90, pos correct=0.9253087629876495, neg correct=0.7161406712844384\n",
            "Iteration=100, pos correct=0.9213879631444815, neg correct=0.7694380721174191\n",
            "Iteration=110, pos correct=0.8043520878259165, neg correct=0.9099089066571638\n",
            "Iteration=120, pos correct=0.9157028033718879, neg correct=0.8598409764137286\n",
            "Iteration=130, pos correct=0.9327582826896686, neg correct=0.8166106149357447\n",
            "Iteration=140, pos correct=0.9327582826896686, neg correct=0.8166106149357447\n",
            "Iteration=150, pos correct=0.9470692021172319, neg correct=0.7774337958529143\n",
            "Iteration=160, pos correct=0.9684375612624976, neg correct=0.6755829751219403\n",
            "Iteration=170, pos correct=0.922172123113115, neg correct=0.8296621305597006\n",
            "Iteration=180, pos correct=0.9686336012546559, neg correct=0.6538675694336177\n",
            "Iteration=190, pos correct=0.8862968045481279, neg correct=0.8498630259025813\n",
            "Perceptron for digit 3 trained successfully!\n",
            "Iteration=0, pos correct=0.0, neg correct=1.0\n",
            "Iteration=10, pos correct=0.36180284009055363, neg correct=0.96743536917658\n",
            "Iteration=20, pos correct=0.9584276600123482, neg correct=0.7074721428413194\n",
            "Iteration=30, pos correct=0.9471084585305618, neg correct=0.8699630048071598\n",
            "Iteration=40, pos correct=0.9699526651574398, neg correct=0.8060078420947697\n",
            "Iteration=50, pos correct=0.9308499691294505, neg correct=0.8925145654726302\n",
            "Iteration=60, pos correct=0.9744803457501543, neg correct=0.8026627677720919\n",
            "Iteration=70, pos correct=0.9489606915003087, neg correct=0.8977204758423606\n",
            "Iteration=80, pos correct=0.8635521712286479, neg correct=0.9622737644270176\n",
            "Iteration=90, pos correct=0.8619057419222063, neg correct=0.9639352251833145\n",
            "Iteration=100, pos correct=0.993002675447623, neg correct=0.7490529673689107\n",
            "Iteration=110, pos correct=0.9905330314879605, neg correct=0.7811302363704836\n",
            "Iteration=120, pos correct=0.9189133566577485, neg correct=0.9322788595733369\n",
            "Iteration=130, pos correct=0.9967071413871167, neg correct=0.5630801267140737\n",
            "Iteration=140, pos correct=0.4821979831240996, neg correct=0.991892071509271\n",
            "Iteration=150, pos correct=0.8800164642930645, neg correct=0.9680778006690148\n",
            "Iteration=160, pos correct=0.9635727515949783, neg correct=0.8869320573314725\n",
            "Iteration=170, pos correct=0.9635727515949783, neg correct=0.8869320573314725\n",
            "Iteration=180, pos correct=0.9353776497221651, neg correct=0.9334086528876188\n",
            "Iteration=190, pos correct=0.9353776497221651, neg correct=0.9334086528876188\n",
            "Perceptron for digit 4 trained successfully!\n",
            "Iteration=0, pos correct=0.0, neg correct=1.0\n",
            "Iteration=10, pos correct=0.9749223257878384, neg correct=0.1767046203895019\n",
            "Iteration=20, pos correct=0.7434531735463826, neg correct=0.8162395041104321\n",
            "Iteration=30, pos correct=0.10874389702618731, neg correct=0.9965489954719303\n",
            "Iteration=40, pos correct=0.9478473146915224, neg correct=0.5616784630940344\n",
            "Iteration=50, pos correct=0.8746116289391922, neg correct=0.7405811755396317\n",
            "Iteration=60, pos correct=0.6853084775854417, neg correct=0.7530003956565701\n",
            "Iteration=70, pos correct=0.9369729249889037, neg correct=0.4780630412801688\n",
            "Iteration=80, pos correct=0.7303595206391478, neg correct=0.8376049588956785\n",
            "Iteration=90, pos correct=0.9105636928539724, neg correct=0.6034202312392843\n",
            "Iteration=100, pos correct=0.8297825122059477, neg correct=0.8287906097507364\n",
            "Iteration=110, pos correct=0.6977363515312917, neg correct=0.9636655383127445\n",
            "Iteration=120, pos correct=0.6977363515312917, neg correct=0.9636655383127445\n",
            "Iteration=130, pos correct=0.9456280514869063, neg correct=0.5855497428232295\n",
            "Iteration=140, pos correct=0.822237017310253, neg correct=0.8694333318679386\n",
            "Iteration=150, pos correct=0.7882822902796272, neg correct=0.8780938145689542\n",
            "Iteration=160, pos correct=0.9383044829116733, neg correct=0.6895854398382204\n",
            "Iteration=170, pos correct=0.7585441633377719, neg correct=0.9348925132984569\n",
            "Iteration=180, pos correct=0.8941411451398136, neg correct=0.8037983030729327\n",
            "Iteration=190, pos correct=0.8859298712827341, neg correct=0.8182397678814789\n",
            "Perceptron for digit 5 trained successfully!\n",
            "Iteration=0, pos correct=0.0, neg correct=1.0\n",
            "Iteration=10, pos correct=0.45788729549585944, neg correct=0.9934959710537414\n",
            "Iteration=20, pos correct=0.9757624722278327, neg correct=0.6703367444338387\n",
            "Iteration=30, pos correct=0.8893152898404363, neg correct=0.9532953006726009\n",
            "Iteration=40, pos correct=0.5986669359725308, neg correct=0.9851495038735599\n",
            "Iteration=50, pos correct=0.7168248838618461, neg correct=0.9812648449466137\n",
            "Iteration=60, pos correct=0.7596445162593416, neg correct=0.9867033674443384\n",
            "Iteration=70, pos correct=0.9567764088063018, neg correct=0.9070567604164355\n",
            "Iteration=80, pos correct=0.9826297717632801, neg correct=0.7874314635175031\n",
            "Iteration=90, pos correct=0.8862855988689153, neg correct=0.9675464494217407\n",
            "Iteration=100, pos correct=0.9151686527974147, neg correct=0.9307198827942906\n",
            "Iteration=110, pos correct=0.9327408604322359, neg correct=0.9455037847676974\n",
            "Iteration=120, pos correct=0.9103211472429812, neg correct=0.9701880174920642\n",
            "Iteration=130, pos correct=0.964047667137952, neg correct=0.9349375124864037\n",
            "Iteration=140, pos correct=0.964047667137952, neg correct=0.9349375124864037\n",
            "Iteration=150, pos correct=0.860432235911937, neg correct=0.9865479810872605\n",
            "Iteration=160, pos correct=0.860432235911937, neg correct=0.9865479810872605\n",
            "Iteration=170, pos correct=0.9648555847303575, neg correct=0.9384448045461609\n",
            "Iteration=180, pos correct=0.9741466370430216, neg correct=0.8867899398432818\n",
            "Iteration=190, pos correct=0.9448596243183195, neg correct=0.930053941263957\n",
            "Perceptron for digit 6 trained successfully!\n",
            "Iteration=0, pos correct=0.0, neg correct=1.0\n",
            "Iteration=10, pos correct=0.5988405797101449, neg correct=0.9862353597322923\n",
            "Iteration=20, pos correct=0.9567149758454107, neg correct=0.6433463469046291\n",
            "Iteration=30, pos correct=0.9389371980676329, neg correct=0.8244506413831567\n",
            "Iteration=40, pos correct=0.9791304347826087, neg correct=0.7046514221974345\n",
            "Iteration=50, pos correct=0.8701449275362318, neg correct=0.9519687674288901\n",
            "Iteration=60, pos correct=0.7408695652173913, neg correct=0.9889347462353597\n",
            "Iteration=70, pos correct=0.783768115942029, neg correct=0.9438706079196877\n",
            "Iteration=80, pos correct=0.82743961352657, neg correct=0.9606246514221974\n",
            "Iteration=90, pos correct=0.4264734299516908, neg correct=0.996787506971556\n",
            "Iteration=100, pos correct=0.9273429951690821, neg correct=0.9416397099832683\n",
            "Iteration=110, pos correct=0.9273429951690821, neg correct=0.9416397099832683\n",
            "Iteration=120, pos correct=0.9885990338164251, neg correct=0.7073061907417736\n",
            "Iteration=130, pos correct=0.9831884057971014, neg correct=0.7409258226436141\n",
            "Iteration=140, pos correct=0.9831884057971014, neg correct=0.7409258226436141\n",
            "Iteration=150, pos correct=0.976231884057971, neg correct=0.8071388733965421\n",
            "Iteration=160, pos correct=0.4421256038647343, neg correct=0.9971667596207473\n",
            "Iteration=170, pos correct=0.883864734299517, neg correct=0.9512102621305075\n",
            "Iteration=180, pos correct=0.9447342995169082, neg correct=0.9445844952593418\n",
            "Iteration=190, pos correct=0.9051207729468599, neg correct=0.948845510317903\n",
            "Perceptron for digit 7 trained successfully!\n",
            "Iteration=0, pos correct=0.0, neg correct=1.0\n",
            "Iteration=10, pos correct=0.15303593556381662, neg correct=0.9300013286682316\n",
            "Iteration=20, pos correct=0.6429161503510946, neg correct=0.8140307365250897\n",
            "Iteration=30, pos correct=0.9368029739776952, neg correct=0.4310421187829399\n",
            "Iteration=40, pos correct=0.6771995043370508, neg correct=0.8585189778112405\n",
            "Iteration=50, pos correct=0.9239983477901693, neg correct=0.5955091013773861\n",
            "Iteration=60, pos correct=0.9021065675340768, neg correct=0.6500287878116834\n",
            "Iteration=70, pos correct=0.8349855431639819, neg correct=0.7865937375437353\n",
            "Iteration=80, pos correct=0.7569186286658406, neg correct=0.8468266973736658\n",
            "Iteration=90, pos correct=0.8312680710450228, neg correct=0.7894725187120776\n",
            "Iteration=100, pos correct=0.7643535729037588, neg correct=0.833761459763497\n",
            "Iteration=110, pos correct=0.8066914498141264, neg correct=0.8181717525133974\n",
            "Iteration=120, pos correct=0.9727385377942999, neg correct=0.38015412551485894\n",
            "Iteration=130, pos correct=0.8329202808756712, neg correct=0.7957615483413791\n",
            "Iteration=140, pos correct=0.6850475010326311, neg correct=0.8915142388945481\n",
            "Iteration=150, pos correct=0.9045848822800495, neg correct=0.6833562159528765\n",
            "Iteration=160, pos correct=0.8967368855844692, neg correct=0.700031002258736\n",
            "Iteration=170, pos correct=0.6959933911606774, neg correct=0.9001062934585234\n",
            "Iteration=180, pos correct=0.9285419248244527, neg correct=0.5733646308516763\n",
            "Iteration=190, pos correct=0.882486575795126, neg correct=0.7511182957615483\n",
            "Perceptron for digit 8 trained successfully!\n",
            "Iteration=0, pos correct=0.0, neg correct=1.0\n",
            "Iteration=10, pos correct=0.9989975942261428, neg correct=0.1969030480760686\n",
            "Iteration=20, pos correct=0.8664795509222133, neg correct=0.8155158624366835\n",
            "Iteration=30, pos correct=0.8458299919807538, neg correct=0.8595929974229094\n",
            "Iteration=40, pos correct=0.9478748997594226, neg correct=0.7094330400782014\n",
            "Iteration=50, pos correct=0.6335204490777867, neg correct=0.9370167955211943\n",
            "Iteration=60, pos correct=0.6884522854851644, neg correct=0.9237980982849018\n",
            "Iteration=70, pos correct=0.8957497995188453, neg correct=0.8312005687372256\n",
            "Iteration=80, pos correct=0.8957497995188453, neg correct=0.8312005687372256\n",
            "Iteration=90, pos correct=0.882317562149158, neg correct=0.8547942770816671\n",
            "Iteration=100, pos correct=0.9248195669607057, neg correct=0.8156713765218164\n",
            "Iteration=110, pos correct=0.8670809943865276, neg correct=0.8278903403536835\n",
            "Iteration=120, pos correct=0.8971531676022454, neg correct=0.8190926863947392\n",
            "Iteration=130, pos correct=0.7852846832397755, neg correct=0.872100773127166\n",
            "Iteration=140, pos correct=0.6892542101042503, neg correct=0.917999644539234\n",
            "Iteration=150, pos correct=0.8492381716118684, neg correct=0.8582822358482183\n",
            "Iteration=160, pos correct=0.9322373696872494, neg correct=0.8147160757131432\n",
            "Iteration=170, pos correct=0.9168003207698476, neg correct=0.8697902781480494\n",
            "Iteration=180, pos correct=0.9398556535685646, neg correct=0.8063183151159691\n",
            "Iteration=190, pos correct=0.6064554931836408, neg correct=0.9296409846263218\n",
            "Perceptron for digit 9 trained successfully!\n"
          ]
        }
      ]
    },
    {
      "cell_type": "code",
      "source": [
        "#Define classify function to perform digit classification\n",
        "def classify(image, perceptrons):\n",
        "  normalized_img = image.astype(np.float32) / 255.0\n",
        "\n",
        "  scores = []\n",
        "  for i in range(10):\n",
        "    score = np.dot(normalized_img, perceptrons[i]).flatten()[0]\n",
        "    scores.append(score)\n",
        "  predicted = np.argmax(scores)\n",
        "  return predicted, scores"
      ],
      "metadata": {
        "id": "VDbjxAJVT00R"
      },
      "execution_count": 18,
      "outputs": []
    },
    {
      "cell_type": "code",
      "source": [
        "import numpy as np\n",
        "from sklearn.metrics import confusion_matrix\n",
        "import seaborn as sns\n",
        "import matplotlib.pyplot as plt\n",
        "\n",
        "# 1. Measure accuracy using your existing accuracy function\n",
        "test_images_normalized = test_images.astype(np.float32) / 255.0\n",
        "\n",
        "# Get predictions for all test images\n",
        "y_true = test_labels\n",
        "y_pred = []\n",
        "\n",
        "for i in range(len(test_images)):\n",
        "    predicted, scores = classify(test_images[i], perceptrons)\n",
        "    y_pred.append(predicted)\n",
        "\n",
        "y_pred = np.array(y_pred)\n",
        "\n",
        "# Calculate accuracy (using your method)\n",
        "correct_predictions = (y_pred == y_true).sum()\n",
        "total_predictions = len(y_true)\n",
        "accuracy = correct_predictions / total_predictions\n",
        "\n",
        "print(f\"Classification Accuracy: {accuracy:.4f} ({accuracy*100:.2f}%)\")\n",
        "print(f\"Correct predictions: {correct_predictions}/{total_predictions}\")\n",
        "\n",
        "# 2. Print confusion matrix\n",
        "cm = confusion_matrix(y_true, y_pred)\n",
        "\n",
        "print(\"\\nConfusion Matrix:\")\n",
        "print(cm)\n",
        "\n",
        "# Visualize the confusion matrix\n",
        "plt.figure(figsize=(8, 6))\n",
        "sns.heatmap(cm, annot=True, fmt='d', cmap='Blues',\n",
        "            xticklabels=range(10), yticklabels=range(10))\n",
        "plt.title('Confusion Matrix')\n",
        "plt.xlabel('Predicted Label')\n",
        "plt.ylabel('True Label')\n",
        "plt.show()"
      ],
      "metadata": {
        "colab": {
          "base_uri": "https://localhost:8080/",
          "height": 774
        },
        "id": "ZWa8azc7fIht",
        "outputId": "a40a69b2-10a3-4a77-963a-b02365323339"
      },
      "execution_count": 19,
      "outputs": [
        {
          "output_type": "stream",
          "name": "stdout",
          "text": [
            "Classification Accuracy: 0.6852 (68.52%)\n",
            "Correct predictions: 6852/10000\n",
            "\n",
            "Confusion Matrix:\n",
            "[[860   0  16  16   0  10  24   1  53   0]\n",
            " [  0 953   2   2   1  10   4   0 163   0]\n",
            " [  2   0 773  39   8   3  16   1 187   3]\n",
            " [  1   0  15 748   0  98   1   0 147   0]\n",
            " [  1   2  17  44 615  32  12   1 244  14]\n",
            " [ 16   0   6  84   1 517   8   2 257   1]\n",
            " [ 10   2  24  11   4  37 749   0 121   0]\n",
            " [ 14  19  47  61  24   9   1 547 280  26]\n",
            " [  4   0   3  30   1  28   4   1 903   0]\n",
            " [  3   5  26  47  31  21   4  11 674 187]]\n"
          ]
        },
        {
          "output_type": "display_data",
          "data": {
            "text/plain": [
              "<Figure size 800x600 with 2 Axes>"
            ],
            "image/png": "[encoded data removed]"
          },
          "metadata": {}
        }
      ]
    },
    {
      "cell_type": "code",
      "source": [],
      "metadata": {
        "id": "-wtHAKY7bkPo"
      },
      "execution_count": null,
      "outputs": []
    }
  ],
  "metadata": {
    "celltoolbar": "Slideshow",
    "kernelspec": {
      "display_name": "Python 3 (ipykernel)",
      "language": "python",
      "name": "python3"
    },
    "language_info": {
      "codemirror_mode": {
        "name": "ipython",
        "version": 3
      },
      "file_extension": ".py",
      "mimetype": "text/x-python",
      "name": "python",
      "nbconvert_exporter": "python",
      "pygments_lexer": "ipython3",
      "version": "3.9.5"
    },
    "livereveal": {
      "start_slideshow_at": "selected"
    },
    "colab": {
      "provenance": []
    }
  },
  "nbformat": 4,
  "nbformat_minor": 0
}